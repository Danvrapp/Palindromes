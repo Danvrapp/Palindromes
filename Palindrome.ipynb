{
 "cells": [
  {
   "cell_type": "code",
   "execution_count": 1,
   "metadata": {},
   "outputs": [],
   "source": [
    "# import dependencies\n",
    "import json\n",
    "import requests"
   ]
  },
  {
   "cell_type": "code",
   "execution_count": 2,
   "metadata": {},
   "outputs": [],
   "source": [
    "# set site to use for palindrome JSON\n",
    "url = \"http://raw.githubusercontent.com/bungard/PalindromeTest/master/string.json\""
   ]
  },
  {
   "cell_type": "code",
   "execution_count": 3,
   "metadata": {},
   "outputs": [],
   "source": [
    "# Attempt to read and store the JSON\n",
    "try:\n",
    "    response = requests.get(url)\n",
    "    response_json = response.json()\n",
    "    entries = response_json[\"strings\"]\n",
    "except:\n",
    "    print(\"JSON not available!\")\n"
   ]
  },
  {
   "cell_type": "code",
   "execution_count": 11,
   "metadata": {},
   "outputs": [
    {
     "name": "stdout",
     "output_type": "stream",
     "text": [
      "*** mom IS a palindrome!!! ***\n",
      "\n",
      "*** Taco Cat IS a palindrome!!! ***\n",
      "\n",
      "*** Kent State is NOT a palindrome because K and e are different!!! ***\n",
      "\n",
      "*** Amore, Roma. IS a palindrome!!! ***\n",
      "\n",
      "*** King are you glad you are king is NOT a palindrome because K and g are different!!! ***\n",
      "\n",
      "eof reached for given JSON file...\n"
     ]
    }
   ],
   "source": [
    "# list iteration to check strings for palindrome-ness!\n",
    "\n",
    "for entry in entries:\n",
    "    flag = 0\n",
    "    i = 0\n",
    "        \n",
    "    try:\n",
    "        str_to_check = (entry[\"str\"])\n",
    "    except:\n",
    "        print(\"The JSON entry does not have a properly formatted 'str'!!!\")        \n",
    "\n",
    "    j = len(str_to_check) - 1\n",
    "    while flag == 0:\n",
    "        while str_to_check[i] == \" \" or str_to_check[i].isalpha() == 0:\n",
    "            i += 1\n",
    "        while str_to_check[j] == \" \" or str_to_check[j].isalpha() == 0:\n",
    "            j -= 1\n",
    "        if str_to_check[i].lower() == str_to_check[j].lower():\n",
    "            i = i + 1\n",
    "            j = j - 1\n",
    "            if i >= (len(str_to_check)/2):\n",
    "                print(\"***\", str_to_check, \"IS a palindrome!!! ***\")\n",
    "                print(\"\")\n",
    "                flag = 1\n",
    "        else:\n",
    "            print (\"***\", str_to_check, \"is NOT a palindrome because\", str_to_check[i], \"and\", str_to_check[j], \"are different!!! ***\")\n",
    "            print(\"\")\n",
    "            flag = 1\n",
    "print(\"eof reached for given JSON file...\")\n"
   ]
  },
  {
   "cell_type": "code",
   "execution_count": null,
   "metadata": {},
   "outputs": [],
   "source": []
  }
 ],
 "metadata": {
  "kernelspec": {
   "display_name": "Python 3",
   "language": "python",
   "name": "python3"
  },
  "language_info": {
   "codemirror_mode": {
    "name": "ipython",
    "version": 3
   },
   "file_extension": ".py",
   "mimetype": "text/x-python",
   "name": "python",
   "nbconvert_exporter": "python",
   "pygments_lexer": "ipython3",
   "version": "3.7.0"
  },
  "varInspector": {
   "cols": {
    "lenName": 16,
    "lenType": 16,
    "lenVar": 40
   },
   "kernels_config": {
    "python": {
     "delete_cmd_postfix": "",
     "delete_cmd_prefix": "del ",
     "library": "var_list.py",
     "varRefreshCmd": "print(var_dic_list())"
    },
    "r": {
     "delete_cmd_postfix": ") ",
     "delete_cmd_prefix": "rm(",
     "library": "var_list.r",
     "varRefreshCmd": "cat(var_dic_list()) "
    }
   },
   "types_to_exclude": [
    "module",
    "function",
    "builtin_function_or_method",
    "instance",
    "_Feature"
   ],
   "window_display": false
  }
 },
 "nbformat": 4,
 "nbformat_minor": 2
}
